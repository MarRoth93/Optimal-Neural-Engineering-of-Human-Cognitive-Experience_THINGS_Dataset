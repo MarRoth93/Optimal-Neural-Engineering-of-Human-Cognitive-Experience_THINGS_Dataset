{
 "cells": [
  {
   "cell_type": "code",
   "execution_count": 8,
   "id": "257a344f",
   "metadata": {},
   "outputs": [
    {
     "name": "stdout",
     "output_type": "stream",
     "text": [
      "ResponseData/ (group)\n",
      "  axis0: shape=(1,), dtype=object\n",
      "  axis1: shape=(211339,), dtype=int64\n",
      "  block0_items: shape=(1,), dtype=object\n",
      "  block0_values: shape=(211339, 9840), dtype=float32\n",
      "  block1_items: shape=(1,), dtype=|S8\n",
      "  block1_values: shape=(211339, 1), dtype=int64\n"
     ]
    }
   ],
   "source": [
    "import h5py, sys\n",
    "p=\"/home/rothermm/THINGS/02_data/derivatives/ICA-betas/sub-01/voxel-metadata/sub-01_task-things_voxel-wise-responses.h5\"\n",
    "with h5py.File(p,\"r\") as f:\n",
    "    def walk(g,prefix=\"\"):\n",
    "        for k,v in g.items():\n",
    "            if isinstance(v,h5py.Dataset):\n",
    "                print(f\"{prefix}{k}: shape={v.shape}, dtype={v.dtype}\")\n",
    "            else:\n",
    "                print(f\"{prefix}{k}/ (group)\")\n",
    "                walk(v, prefix+\"  \")\n",
    "    walk(f)"
   ]
  },
  {
   "cell_type": "code",
   "execution_count": 3,
   "id": "6bdd1f70",
   "metadata": {},
   "outputs": [],
   "source": [
    "import numpy as np"
   ]
  },
  {
   "cell_type": "code",
   "execution_count": 5,
   "id": "451d0d4a",
   "metadata": {},
   "outputs": [],
   "source": [
    "test = np.load(\"/home/rothermm/THINGS/02_data/preprocessed_data/subj01/X.npy\")"
   ]
  },
  {
   "cell_type": "code",
   "execution_count": 6,
   "id": "d9ba9b9c",
   "metadata": {},
   "outputs": [
    {
     "data": {
      "text/plain": [
       "(9840, 12098)"
      ]
     },
     "execution_count": 6,
     "metadata": {},
     "output_type": "execute_result"
    }
   ],
   "source": [
    "test.shape"
   ]
  },
  {
   "cell_type": "code",
   "execution_count": 4,
   "id": "92df2f1b",
   "metadata": {},
   "outputs": [
    {
     "name": "stdout",
     "output_type": "stream",
     "text": [
      "pred exists: True\n",
      "pred shape: (100, 91168) dtype: float32\n",
      "ref exists: True\n"
     ]
    }
   ],
   "source": [
    "import numpy as np, os, torch, zipfile, io, pickle\n",
    "pred = \"/home/rothermm/THINGS/02_data/predicted_features/subj01/things_vdvae_pred_sub01_31l_alpha50000.npy\"\n",
    "ref  = \"/home/rothermm/THINGS/02_data/extracted_features/subj01/ref_latents.npz\"\n",
    "print(\"pred exists:\", os.path.exists(pred))\n",
    "if os.path.exists(pred):\n",
    "    x = np.load(pred)\n",
    "    print(\"pred shape:\", x.shape, \"dtype:\", x.dtype)\n",
    "print(\"ref exists:\", os.path.exists(ref))\n"
   ]
  },
  {
   "cell_type": "code",
   "execution_count": 5,
   "id": "0ce2a848",
   "metadata": {},
   "outputs": [],
   "source": [
    "npz = np.load(ref)"
   ]
  },
  {
   "cell_type": "code",
   "execution_count": 7,
   "id": "cc34908a",
   "metadata": {},
   "outputs": [
    {
     "data": {
      "text/plain": [
       "<numpy.lib.npyio.NpzFile at 0x7f9d306dd610>"
      ]
     },
     "execution_count": 7,
     "metadata": {},
     "output_type": "execute_result"
    }
   ],
   "source": []
  },
  {
   "cell_type": "code",
   "execution_count": 12,
   "id": "b22455d3",
   "metadata": {},
   "outputs": [
    {
     "name": "stdout",
     "output_type": "stream",
     "text": [
      "Example voxel-latent corr: 0.0036647814276700146\n"
     ]
    }
   ],
   "source": [
    "train_fmri = np.load(\"/home/rothermm/THINGS/02_data/preprocessed_data/subj01/X_train.npy\")\n",
    "test_fmri = np.load(\"/home/rothermm/THINGS/02_data/preprocessed_data/subj01/X_test_avg.npy\")\n",
    "latents = np.load(\"/home/rothermm/THINGS/02_data/extracted_features/subj01/things_vdvae_features_31l.npz\")\n",
    "train_latents = latents[\"train_latents\"]\n",
    "test_latents = latents[\"test_latents\"]\n",
    "\n",
    "# Sanity: random voxel-latent correlation in training set\n",
    "corrs = np.corrcoef(train_fmri[:,0], train_latents[:,0])[0,1]\n",
    "print(\"Example voxel-latent corr:\", corrs)\n"
   ]
  },
  {
   "cell_type": "code",
   "execution_count": 11,
   "id": "d791d3ec",
   "metadata": {},
   "outputs": [
    {
     "data": {
      "text/plain": [
       "<numpy.lib.npyio.NpzFile at 0x7f9c8652cf70>"
      ]
     },
     "execution_count": 11,
     "metadata": {},
     "output_type": "execute_result"
    }
   ],
   "source": [
    "latents"
   ]
  },
  {
   "cell_type": "code",
   "execution_count": null,
   "id": "32b6c265",
   "metadata": {},
   "outputs": [],
   "source": []
  }
 ],
 "metadata": {
  "kernelspec": {
   "display_name": "Python 3",
   "language": "python",
   "name": "python3"
  },
  "language_info": {
   "codemirror_mode": {
    "name": "ipython",
    "version": 3
   },
   "file_extension": ".py",
   "mimetype": "text/x-python",
   "name": "python",
   "nbconvert_exporter": "python",
   "pygments_lexer": "ipython3",
   "version": "3.8.13"
  }
 },
 "nbformat": 4,
 "nbformat_minor": 5
}
