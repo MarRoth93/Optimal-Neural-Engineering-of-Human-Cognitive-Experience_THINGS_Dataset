{
 "cells": [
  {
   "cell_type": "code",
   "execution_count": 2,
   "id": "257a344f",
   "metadata": {},
   "outputs": [
    {
     "name": "stdout",
     "output_type": "stream",
     "text": [
      "ResponseData/ (group)\n",
      "  axis0: shape=(1,), dtype=object\n",
      "  axis1: shape=(211339,), dtype=int64\n",
      "  block0_items: shape=(1,), dtype=object\n",
      "  block0_values: shape=(211339, 9840), dtype=float32\n",
      "  block1_items: shape=(1,), dtype=|S8\n",
      "  block1_values: shape=(211339, 1), dtype=int64\n"
     ]
    }
   ],
   "source": [
    "import h5py, sys\n",
    "p=\"/home/rothermm/THINGS/02_data/derivatives/ICA-betas/sub-01/voxel-metadata/sub-01_task-things_voxel-wise-responses.h5\"\n",
    "with h5py.File(p,\"r\") as f:\n",
    "    def walk(g,prefix=\"\"):\n",
    "        for k,v in g.items():\n",
    "            if isinstance(v,h5py.Dataset):\n",
    "                print(f\"{prefix}{k}: shape={v.shape}, dtype={v.dtype}\")\n",
    "            else:\n",
    "                print(f\"{prefix}{k}/ (group)\")\n",
    "                walk(v, prefix+\"  \")\n",
    "    walk(f)"
   ]
  },
  {
   "cell_type": "code",
   "execution_count": 3,
   "id": "6bdd1f70",
   "metadata": {},
   "outputs": [],
   "source": [
    "import numpy as np"
   ]
  },
  {
   "cell_type": "code",
   "execution_count": 5,
   "id": "451d0d4a",
   "metadata": {},
   "outputs": [],
   "source": [
    "test = np.load(\"/home/rothermm/THINGS/02_data/preprocessed_data/subj01/X.npy\")"
   ]
  },
  {
   "cell_type": "code",
   "execution_count": 6,
   "id": "d9ba9b9c",
   "metadata": {},
   "outputs": [
    {
     "data": {
      "text/plain": [
       "(9840, 12098)"
      ]
     },
     "execution_count": 6,
     "metadata": {},
     "output_type": "execute_result"
    }
   ],
   "source": [
    "test.shape"
   ]
  },
  {
   "cell_type": "code",
   "execution_count": null,
   "id": "92df2f1b",
   "metadata": {},
   "outputs": [],
   "source": []
  }
 ],
 "metadata": {
  "kernelspec": {
   "display_name": "Python 3",
   "language": "python",
   "name": "python3"
  },
  "language_info": {
   "codemirror_mode": {
    "name": "ipython",
    "version": 3
   },
   "file_extension": ".py",
   "mimetype": "text/x-python",
   "name": "python",
   "nbconvert_exporter": "python",
   "pygments_lexer": "ipython3",
   "version": "3.8.13"
  }
 },
 "nbformat": 4,
 "nbformat_minor": 5
}
